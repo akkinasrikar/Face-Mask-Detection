{
 "cells": [
  {
   "cell_type": "code",
   "execution_count": null,
   "metadata": {},
   "outputs": [],
   "source": [
    "from tensorflow.keras.applications.mobilenet_v2 import preprocess_input\n",
    "from tensorflow.keras.preprocessing.image import img_to_array\n",
    "from tensorflow.keras.models import load_model\n",
    "import numpy as np\n",
    "import cv2\n",
    "import os"
   ]
  },
  {
   "cell_type": "code",
   "execution_count": null,
   "metadata": {},
   "outputs": [],
   "source": [
    "prototxt_path=\"C:\\\\Users\\\\personal\\Desktop\\\\Coding\\\\projects\\\\FMD\\\\deploy.prototxt\""
   ]
  },
  {
   "cell_type": "code",
   "execution_count": 16,
   "metadata": {},
   "outputs": [],
   "source": [
    "caffe_weights_path=\"C:\\\\Users\\\\personal\\Desktop\\\\Coding\\\\projects\\\\FMD\\\\res10_300x300_ssd_iter_140000.caffemodel\""
   ]
  },
  {
   "cell_type": "code",
   "execution_count": 17,
   "metadata": {},
   "outputs": [],
   "source": [
    "net=cv2.dnn.readNet(prototxt_path,caffe_weights_path)\n",
    "model=load_model('C:\\\\Users\\\\personal\\Desktop\\\\Coding\\\\projects\\\\FMD\\\\mobilenet_v2.model')"
   ]
  },
  {
   "cell_type": "code",
   "execution_count": 18,
   "metadata": {},
   "outputs": [],
   "source": [
    "image=cv2.imread(\"C:\\\\Users\\\\personal\\Desktop\\\\Coding\\\\projects\\\\FMD\\\\New Masks Dataset\\\\Validation\\\\Mask\\\\1803.jpg\")"
   ]
  },
  {
   "cell_type": "code",
   "execution_count": 19,
   "metadata": {},
   "outputs": [],
   "source": [
    "(h,w)=image.shape[:2]\n",
    "blob=cv2.dnn.blobFromImage(image,1.0,(300,300),(104.0,177.0,123.0))"
   ]
  },
  {
   "cell_type": "code",
   "execution_count": 20,
   "metadata": {},
   "outputs": [],
   "source": [
    "net.setInput(blob)\n",
    "detections=net.forward()"
   ]
  },
  {
   "cell_type": "code",
   "execution_count": 21,
   "metadata": {},
   "outputs": [
    {
     "data": {
      "text/plain": [
       "200"
      ]
     },
     "execution_count": 21,
     "metadata": {},
     "output_type": "execute_result"
    }
   ],
   "source": [
    "detections.shape[2]"
   ]
  },
  {
   "cell_type": "code",
   "execution_count": 22,
   "metadata": {},
   "outputs": [],
   "source": [
    "for i in range(0,detections.shape[2]):\n",
    "    confidence=detections[0,0,i,2]\n",
    "    \n",
    "    if confidence>0.5:\n",
    "        Box=detections[0,0,i,3:7]*np.array([w,h,w,h])\n",
    "        (start_X,start_Y,end_X,end_Y)=Box.astype('int')\n",
    "        (start_X,start_Y)=(max(0,start_X),max(0,start_Y))\n",
    "        (end_X,end_Y)=(min(w-1,end_X), min(h-1,end_Y))\n",
    "        \n",
    "        face=image[start_Y:end_Y, start_X:end_X]\n",
    "        face=cv2.cvtColor(face,cv2.COLOR_BGR2RGB)\n",
    "        face=cv2.resize(face,(224,224))\n",
    "        face=img_to_array(face)\n",
    "        face=preprocess_input(face)\n",
    "        face=np.expand_dims(face,axis=0)\n",
    "        \n",
    "        (Mask,withoutMask)=model.predict(face)[0]\n",
    "        \n",
    "        if Mask>withoutMask:\n",
    "            label='Mask'\n",
    "        else:\n",
    "            label='No Mask'\n",
    "            \n",
    "        if label==\"Mask\":\n",
    "            color=(0,255,0)\n",
    "        else:\n",
    "            color=(0,0,255)\n",
    "    \n",
    "        label=\"{}: {:.2f}%\".format(label,max(Mask,withoutMask)*100)\n",
    "        \n",
    "        cv2.putText(image,label,(startX,startY-10),cv2.FONT_HERSHEY_SIMPLEX,0.45,color,2)\n",
    "        cv2.rectangle(image,(startX,startY),(endX,endY),color,2)\n",
    "        \n",
    "cv2.imshow(\"Image\",image)\n",
    "cv2.waitKey(0)\n",
    "cv2.destroyAllWindows()\n",
    "\n",
    "\n",
    "\n"
   ]
  },
  {
   "cell_type": "code",
   "execution_count": null,
   "metadata": {},
   "outputs": [],
   "source": [
    "for i in range(0,detections.shape[2]):\n",
    "    confidence=detections[0,0,i,2]\n",
    "    \n",
    "    if confidence>0.5:\n",
    "        Box=detections[0,0,i,3:7]*np.array([w,h,w,h])\n",
    "        (start_X,start_Y,end_X,end_Y)=Box.astype('int')\n",
    "        (start_X,start_Y)=(max(0,start_X),max(0,start_Y))\n",
    "        (end_X,end_Y)=(min(w-1,end_X), min(h-1,end_Y))\n",
    "        \n",
    "        face=image[start_Y:end_Y, start_X:end_X]\n",
    "        face=cv2.cvtColor(face,cv2.COLOR_BGR2RGB)\n",
    "        face=cv2.resize(face,(224,224))\n",
    "        face=img_to_array(face)\n",
    "        face=preprocess_input(face)\n",
    "        face=np.expand_dims(face,axis=0)\n",
    "        \n",
    "        (Mask,withoutMask)=model.predict(face)[0]\n",
    "        \n",
    "        if Mask>withoutMask:\n",
    "            label='Mask'\n",
    "        else:\n",
    "            label='No Mask'\n",
    "            \n",
    "        if label==\"Mask\":\n",
    "            color=(0,255,0)\n",
    "        else:\n",
    "            color=(0,0,255)\n",
    "    \n",
    "        label=\"{}: {:.2f}%\".format(label,max(Mask,withoutMask)*100)\n",
    "        \n",
    "        cv2.putText(image,label,(startX,startY-10),cv2.FONT_HERSHEY_SIMPLEX,0.45,color,2)\n",
    "        cv2.rectangle(image,(startX,startY),(endX,endY),color,2)\n",
    "        \n",
    "cv2.imshow(\"Image\",image)\n",
    "cv2.waitKey(0)\n",
    "cv2.destroyAllWindows()\n",
    "\n",
    "\n",
    "\n"
   ]
  },
  {
   "cell_type": "code",
   "execution_count": 25,
   "metadata": {},
   "outputs": [
    {
     "ename": "KeyboardInterrupt",
     "evalue": "",
     "output_type": "error",
     "traceback": [
      "\u001b[1;31m---------------------------------------------------------------------------\u001b[0m",
      "\u001b[1;31mKeyboardInterrupt\u001b[0m                         Traceback (most recent call last)",
      "\u001b[1;32m<ipython-input-25-0cfc9092c14f>\u001b[0m in \u001b[0;36m<module>\u001b[1;34m\u001b[0m\n\u001b[0;32m     19\u001b[0m \u001b[1;33m\u001b[0m\u001b[0m\n\u001b[0;32m     20\u001b[0m     \u001b[0mnet\u001b[0m\u001b[1;33m.\u001b[0m\u001b[0msetInput\u001b[0m\u001b[1;33m(\u001b[0m\u001b[0mblob\u001b[0m\u001b[1;33m)\u001b[0m\u001b[1;33m\u001b[0m\u001b[1;33m\u001b[0m\u001b[0m\n\u001b[1;32m---> 21\u001b[1;33m     \u001b[0mdetections\u001b[0m\u001b[1;33m=\u001b[0m\u001b[0mnet\u001b[0m\u001b[1;33m.\u001b[0m\u001b[0mforward\u001b[0m\u001b[1;33m(\u001b[0m\u001b[1;33m)\u001b[0m\u001b[1;33m\u001b[0m\u001b[1;33m\u001b[0m\u001b[0m\n\u001b[0m\u001b[0;32m     22\u001b[0m \u001b[1;33m\u001b[0m\u001b[0m\n\u001b[0;32m     23\u001b[0m     \u001b[1;32mif\u001b[0m \u001b[0mret\u001b[0m \u001b[1;32mis\u001b[0m \u001b[1;32mTrue\u001b[0m\u001b[1;33m:\u001b[0m\u001b[1;33m\u001b[0m\u001b[1;33m\u001b[0m\u001b[0m\n",
      "\u001b[1;31mKeyboardInterrupt\u001b[0m: "
     ]
    }
   ],
   "source": [
    "import cv2\n",
    "import numpy as np\n",
    "\n",
    "capture=cv2.VideoCapture(0)\n",
    "\n",
    "frame_width=int(capture.get(3))\n",
    "frame_height=int(capture.get(4))\n",
    "frame_index=1\n",
    "\n",
    "if capture.isOpened is False:\n",
    "    print(\"erroe while opening the camera\")\n",
    "    \n",
    "while capture.isOpened():\n",
    "\n",
    "    ret,image=capture.read()\n",
    "    \n",
    "    (h,w)=image.shape[:2]\n",
    "    blob=cv2.dnn.blobFromImage(image,1.0,(300,300),(104.0,177.0,123.0))\n",
    "    \n",
    "    net.setInput(blob)\n",
    "    detections=net.forward()\n",
    "\n",
    "    if ret is True:\n",
    "        \n",
    "        for i in range(0,detections.shape[2]):\n",
    "            confidence=detections[0,0,i,2]\n",
    "\n",
    "            if confidence>0.5:\n",
    "                Box=detections[0,0,i,3:7]*np.array([w,h,w,h])\n",
    "                (start_X,start_Y,end_X,end_Y)=Box.astype('int')\n",
    "                (start_X,start_Y)=(max(0,start_X),max(0,start_Y))\n",
    "                (end_X,end_Y)=(min(w-1,end_X), min(h-1,end_Y))\n",
    "\n",
    "                face=image[start_Y:end_Y, start_X:end_X]\n",
    "                face=cv2.cvtColor(face,cv2.COLOR_BGR2RGB)\n",
    "                face=cv2.resize(face,(224,224))\n",
    "                face=img_to_array(face)\n",
    "                face=preprocess_input(face)\n",
    "                face=np.expand_dims(face,axis=0)\n",
    "\n",
    "                (Mask,withoutMask)=model.predict(face)[0]\n",
    "\n",
    "                if Mask>withoutMask:\n",
    "                    label='Mask'\n",
    "                else:\n",
    "                    label='No Mask'\n",
    "\n",
    "                if label==\"Mask\":\n",
    "                    color=(0,255,0)\n",
    "                else:\n",
    "                    color=(0,0,255)\n",
    "\n",
    "                label=\"{}: {:.2f}%\".format(label,max(Mask,withoutMask)*100)\n",
    "\n",
    "                cv2.putText(image,label,(startX,startY-10),cv2.FONT_HERSHEY_SIMPLEX,0.45,color,2)\n",
    "                cv2.rectangle(image,(startX,startY),(endX,endY),color,2)\n",
    "                cv2.imshow(\"Image\",image)\n",
    "        \n",
    "        if cv2.waitKey(10) & 0xFF == ord('m'):\n",
    "            #if we press m key then it will stop\n",
    "            break\n",
    "    else:\n",
    "        break\n",
    "        \n",
    "capture.release()\n",
    "cv2.destroyAllWindows()\n",
    "        "
   ]
  },
  {
   "cell_type": "code",
   "execution_count": null,
   "metadata": {},
   "outputs": [],
   "source": []
  }
 ],
 "metadata": {
  "kernelspec": {
   "display_name": "Python 3",
   "language": "python",
   "name": "python3"
  },
  "language_info": {
   "codemirror_mode": {
    "name": "ipython",
    "version": 3
   },
   "file_extension": ".py",
   "mimetype": "text/x-python",
   "name": "python",
   "nbconvert_exporter": "python",
   "pygments_lexer": "ipython3",
   "version": "3.7.3"
  }
 },
 "nbformat": 4,
 "nbformat_minor": 2
}
